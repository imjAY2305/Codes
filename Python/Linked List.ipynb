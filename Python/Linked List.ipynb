{
 "cells": [
  {
   "cell_type": "code",
   "execution_count": 1,
   "id": "d97a27c6",
   "metadata": {},
   "outputs": [],
   "source": [
    "#Deque - used to implement LinkedList in python.\n",
    "\n",
    "from collections import deque\n",
    "linkedList = deque()"
   ]
  },
  {
   "cell_type": "code",
   "execution_count": 2,
   "id": "e81a169f",
   "metadata": {},
   "outputs": [
    {
     "data": {
      "text/plain": [
       "deque([])"
      ]
     },
     "execution_count": 2,
     "metadata": {},
     "output_type": "execute_result"
    }
   ],
   "source": [
    "linkedList"
   ]
  },
  {
   "cell_type": "code",
   "execution_count": 3,
   "id": "ce116cce",
   "metadata": {},
   "outputs": [],
   "source": [
    "linkedList.append(0)\n",
    "linkedList.appendleft(1)\n",
    "linkedList.append(2)"
   ]
  },
  {
   "cell_type": "code",
   "execution_count": 5,
   "id": "4203175e",
   "metadata": {},
   "outputs": [
    {
     "data": {
      "text/plain": [
       "deque([1, 0, 2])"
      ]
     },
     "execution_count": 5,
     "metadata": {},
     "output_type": "execute_result"
    }
   ],
   "source": [
    "linkedList"
   ]
  },
  {
   "cell_type": "code",
   "execution_count": 6,
   "id": "9c2142f5",
   "metadata": {},
   "outputs": [
    {
     "data": {
      "text/plain": [
       "2"
      ]
     },
     "execution_count": 6,
     "metadata": {},
     "output_type": "execute_result"
    }
   ],
   "source": [
    "linkedList.pop()"
   ]
  },
  {
   "cell_type": "code",
   "execution_count": 7,
   "id": "303b2b0c",
   "metadata": {},
   "outputs": [
    {
     "data": {
      "text/plain": [
       "1"
      ]
     },
     "execution_count": 7,
     "metadata": {},
     "output_type": "execute_result"
    }
   ],
   "source": [
    "linkedList.popleft()"
   ]
  },
  {
   "cell_type": "code",
   "execution_count": 8,
   "id": "e0767df4",
   "metadata": {},
   "outputs": [
    {
     "data": {
      "text/plain": [
       "deque([0])"
      ]
     },
     "execution_count": 8,
     "metadata": {},
     "output_type": "execute_result"
    }
   ],
   "source": [
    "linkedList"
   ]
  },
  {
   "cell_type": "code",
   "execution_count": 9,
   "id": "75e069e9",
   "metadata": {},
   "outputs": [],
   "source": [
    "#Stacks using LinkedList"
   ]
  },
  {
   "cell_type": "code",
   "execution_count": 34,
   "id": "07a4255a",
   "metadata": {},
   "outputs": [
    {
     "name": "stdout",
     "output_type": "stream",
     "text": [
      "deque([0])\n",
      "deque([0, 1])\n",
      "deque([0, 1, 2])\n",
      "deque([0, 1, 2, 3])\n",
      "deque([0, 1, 2, 3, 4])\n",
      "deque([0, 1, 2, 3, 4])\n"
     ]
    }
   ],
   "source": [
    "stack = deque()\n",
    "for i in range(5):\n",
    "    stack.append(i)\n",
    "    print(stack)\n",
    "print(stack)"
   ]
  },
  {
   "cell_type": "code",
   "execution_count": 35,
   "id": "8e341299",
   "metadata": {},
   "outputs": [
    {
     "name": "stdout",
     "output_type": "stream",
     "text": [
      "deque([0, 1, 2, 3, 4])\n",
      "deque([0, 1, 2, 3, 4]) None\n",
      "deque([0, 1, 2, 3]) 4\n",
      "deque([0, 1, 2]) 3\n",
      "deque([0, 1]) 2\n",
      "deque([0]) 1\n"
     ]
    }
   ],
   "source": [
    "#Now implementing LIFO\n",
    "print(stack)\n",
    "a = None\n",
    "for j in range(len(stack)):\n",
    "    print(stack,a)\n",
    "    a = stack.pop()"
   ]
  },
  {
   "cell_type": "code",
   "execution_count": null,
   "id": "a804b737",
   "metadata": {},
   "outputs": [],
   "source": []
  },
  {
   "cell_type": "code",
   "execution_count": 36,
   "id": "b0633722",
   "metadata": {},
   "outputs": [],
   "source": [
    "#Queue using Linked List"
   ]
  },
  {
   "cell_type": "code",
   "execution_count": 37,
   "id": "16009b80",
   "metadata": {},
   "outputs": [
    {
     "name": "stdout",
     "output_type": "stream",
     "text": [
      "deque([0])\n",
      "deque([0, 1])\n",
      "deque([0, 1, 2])\n",
      "deque([0, 1, 2, 3])\n",
      "deque([0, 1, 2, 3, 4])\n"
     ]
    }
   ],
   "source": [
    "queue = deque()\n",
    "for i in range(5):\n",
    "    queue.append(i)\n",
    "    print(queue)"
   ]
  },
  {
   "cell_type": "code",
   "execution_count": 39,
   "id": "2eea1714",
   "metadata": {},
   "outputs": [
    {
     "name": "stdout",
     "output_type": "stream",
     "text": [
      "deque([0, 1, 2, 3, 4])\n",
      "deque([1, 2, 3, 4])\n",
      "deque([2, 3, 4])\n",
      "deque([3, 4])\n",
      "deque([4])\n"
     ]
    }
   ],
   "source": [
    "#Now implementing FIFO\n",
    "for i in range(len(queue)):\n",
    "    print(queue)\n",
    "    queue.popleft()"
   ]
  },
  {
   "cell_type": "code",
   "execution_count": null,
   "id": "6991a221",
   "metadata": {},
   "outputs": [],
   "source": []
  },
  {
   "cell_type": "code",
   "execution_count": null,
   "id": "9c623640",
   "metadata": {},
   "outputs": [],
   "source": []
  },
  {
   "cell_type": "code",
   "execution_count": 40,
   "id": "e6ad3f9f",
   "metadata": {},
   "outputs": [],
   "source": [
    "#CUSTOM LINKED LIST"
   ]
  },
  {
   "cell_type": "code",
   "execution_count": 64,
   "id": "9e5d876e",
   "metadata": {},
   "outputs": [],
   "source": [
    "class Node:\n",
    "    def __init__(self,data):\n",
    "        self.data = data\n",
    "        self.next = None\n",
    "        \n",
    "class Linked:\n",
    "    def __init__(self):\n",
    "        self.head = None\n",
    "    def show(self):\n",
    "        node = self.head\n",
    "        while node is not None:\n",
    "            print(node.data)\n",
    "            node = node.next\n",
    "    def add(self,new):\n",
    "        newNode = Node(new)\n",
    "        newNode.next = self.head\n",
    "        self.head = newNode"
   ]
  },
  {
   "cell_type": "code",
   "execution_count": 65,
   "id": "21e89514",
   "metadata": {},
   "outputs": [],
   "source": [
    "link = Linked()"
   ]
  },
  {
   "cell_type": "code",
   "execution_count": 66,
   "id": "b5cf3ee5",
   "metadata": {},
   "outputs": [],
   "source": [
    "elem = Node('JAY')"
   ]
  },
  {
   "cell_type": "code",
   "execution_count": 67,
   "id": "3c1f7c70",
   "metadata": {},
   "outputs": [
    {
     "name": "stdout",
     "output_type": "stream",
     "text": [
      "JAY\n",
      "2305\n"
     ]
    }
   ],
   "source": [
    "link.head = elem\n",
    "elem = Node('2305')\n",
    "link.head.next = elem\n",
    "link.show()"
   ]
  },
  {
   "cell_type": "code",
   "execution_count": 68,
   "id": "66ccee82",
   "metadata": {},
   "outputs": [],
   "source": [
    "link.add('completed')"
   ]
  },
  {
   "cell_type": "code",
   "execution_count": 69,
   "id": "7fca06e5",
   "metadata": {},
   "outputs": [
    {
     "name": "stdout",
     "output_type": "stream",
     "text": [
      "completed\n",
      "JAY\n",
      "2305\n"
     ]
    }
   ],
   "source": [
    "link.show()"
   ]
  },
  {
   "cell_type": "code",
   "execution_count": null,
   "id": "4cd3e2eb",
   "metadata": {},
   "outputs": [],
   "source": []
  }
 ],
 "metadata": {
  "kernelspec": {
   "display_name": "Python 3",
   "language": "python",
   "name": "python3"
  },
  "language_info": {
   "codemirror_mode": {
    "name": "ipython",
    "version": 3
   },
   "file_extension": ".py",
   "mimetype": "text/x-python",
   "name": "python",
   "nbconvert_exporter": "python",
   "pygments_lexer": "ipython3",
   "version": "3.8.8"
  }
 },
 "nbformat": 4,
 "nbformat_minor": 5
}
